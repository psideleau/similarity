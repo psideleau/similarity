{
 "cells": [
  {
   "cell_type": "code",
   "execution_count": 1,
   "id": "879a2336",
   "metadata": {},
   "outputs": [],
   "source": [
    "import numpy as np\n",
    "import seaborn as sns\n",
    "import pandas as pd"
   ]
  },
  {
   "cell_type": "code",
   "execution_count": 140,
   "id": "f9f13aec",
   "metadata": {},
   "outputs": [],
   "source": [
    "from sklearn.datasets import make_classification\n",
    "df = make_classification(n_samples=100, n_features=5, n_classes=3, n_clusters_per_class=2, n_informative=4, n_redundant=1)\n",
    "data = df[0]\n",
    "labels = df[1]"
   ]
  },
  {
   "cell_type": "code",
   "execution_count": 233,
   "id": "cd0c9c3a",
   "metadata": {},
   "outputs": [
    {
     "data": {
      "text/plain": [
       "array([0, 0, 1, 0, 2, 0, 0, 2, 1, 2, 0, 2, 1, 0, 1, 2, 2, 1, 2, 0, 1, 0,\n",
       "       1, 1, 0, 1, 2, 0, 1, 2, 2, 0, 2, 0, 2, 2, 0, 2, 1, 0, 0, 1, 1, 1,\n",
       "       2, 1, 2, 0, 1, 1, 2, 1, 2, 0, 1, 2, 2, 0, 1, 0, 1, 1, 0, 0, 0, 2,\n",
       "       2, 2, 2, 2, 0, 2, 1, 1, 0, 1, 2, 0, 2, 0, 2, 0, 2, 2, 1, 1, 0, 0,\n",
       "       1, 2, 2, 0, 2, 1, 0, 2, 0, 0, 1, 0])"
      ]
     },
     "execution_count": 233,
     "metadata": {},
     "output_type": "execute_result"
    }
   ],
   "source": [
    "labels"
   ]
  },
  {
   "cell_type": "code",
   "execution_count": 141,
   "id": "fd3ee166",
   "metadata": {},
   "outputs": [
    {
     "data": {
      "text/plain": [
       "array([[ 1.14423004e+00, -9.27498649e-01, -1.25444544e+00,\n",
       "        -1.20963703e+00,  1.41368085e+00],\n",
       "       [ 1.60966485e+00, -4.17625970e-01,  2.91819187e-01,\n",
       "        -4.79195235e-01,  4.51560997e-01],\n",
       "       [ 3.22024509e+00,  5.17351810e-01,  7.36903535e-01,\n",
       "        -1.20980794e+00,  5.31675206e-01],\n",
       "       [ 1.48727739e+00,  1.41849432e+00, -1.74208787e+00,\n",
       "        -2.09062217e+00,  1.17487777e+00],\n",
       "       [ 1.39086524e+00, -2.15084010e+00,  8.33442473e-01,\n",
       "        -7.30722902e-01,  1.35068386e+00],\n",
       "       [ 2.14121936e+00, -2.30858990e+00,  3.49942768e+00,\n",
       "        -1.32758390e-01,  6.69802123e-01],\n",
       "       [ 6.67795506e-01, -7.49809800e-01, -1.15722786e+00,\n",
       "        -8.94867038e-01,  1.10102786e+00],\n",
       "       [ 1.25659395e+00,  1.60657649e+00, -1.94610422e-01,\n",
       "         7.40141860e-01, -1.33367979e+00],\n",
       "       [ 1.08856304e+00, -8.37737495e-01, -2.02754945e+00,\n",
       "        -1.79388980e+00,  1.92004837e+00],\n",
       "       [ 1.43457930e+00,  5.26778071e-01,  4.24941173e-03,\n",
       "         8.21913506e-01, -9.75722649e-01],\n",
       "       [ 9.52652118e-01,  1.67055664e+00, -9.73761146e-01,\n",
       "         8.59644271e-01, -1.37837284e+00],\n",
       "       [ 1.92932615e+00,  1.05336642e+00, -6.25151011e-01,\n",
       "         1.39806200e+00, -1.64543453e+00],\n",
       "       [ 5.56275163e-02, -1.07586621e+00, -2.40948560e+00,\n",
       "        -5.33862943e-01,  1.07704054e+00],\n",
       "       [ 2.42771606e+00, -1.40358473e+00,  1.80890568e+00,\n",
       "        -1.13451616e+00,  1.23171096e+00],\n",
       "       [ 2.03774252e-01,  1.18111380e+00, -1.00568347e+00,\n",
       "         1.50265928e+00, -1.65528407e+00],\n",
       "       [ 1.18871629e+00,  1.03368605e-01, -1.94261355e+00,\n",
       "        -1.58087680e+00,  1.33985911e+00],\n",
       "       [ 1.04320371e+00, -1.43957114e+00, -2.16969117e+00,\n",
       "        -1.88182003e+00,  2.25750032e+00],\n",
       "       [ 1.37109665e+00, -1.65823454e+00, -2.76091868e+00,\n",
       "        -2.75849189e+00,  3.09572882e+00],\n",
       "       [ 2.27948671e-01,  5.89841532e-01, -1.77944252e+00,\n",
       "         1.10380264e+00, -1.02080249e+00],\n",
       "       [ 1.27747156e+00,  1.15708372e+00, -1.36277448e+00,\n",
       "         1.75962070e+00, -1.88846163e+00],\n",
       "       [ 2.99965042e-01,  1.10590309e+00, -1.65496956e-03,\n",
       "         2.99574786e-01, -7.24415240e-01],\n",
       "       [ 2.25975529e+00,  2.18074104e+00, -2.08280600e+00,\n",
       "        -2.03268338e+00,  7.92178052e-01],\n",
       "       [ 1.76540455e+00,  8.48350887e-01, -1.28389104e+00,\n",
       "         7.27956008e-01, -9.48586738e-01],\n",
       "       [ 2.08687473e+00, -6.36797941e-01,  9.48321192e-01,\n",
       "        -1.40970514e+00,  1.22539637e+00],\n",
       "       [ 1.37723344e-01,  1.13804404e+00, -1.06701431e+00,\n",
       "         8.18501673e-01, -1.06813571e+00],\n",
       "       [-1.06906977e+00,  2.16257022e+00, -5.78158192e-01,\n",
       "        -3.57883153e-01, -5.02700079e-01],\n",
       "       [ 4.10421588e-01, -1.91881048e+00, -4.39977253e-03,\n",
       "         4.43676144e-01,  4.15014396e-01],\n",
       "       [ 2.71077084e+00,  1.12418533e+00, -3.16693115e-01,\n",
       "        -3.21571033e-01, -3.35750761e-01],\n",
       "       [ 2.39600721e+00,  2.95688328e-01,  1.45769719e+00,\n",
       "         3.15803221e+00, -2.96456744e+00],\n",
       "       [ 2.05804315e+00,  5.85173044e-01, -7.19190912e-01,\n",
       "        -1.55473659e-02, -2.91639767e-01],\n",
       "       [ 1.85797883e+00,  1.36147833e+00, -2.35553444e+00,\n",
       "        -2.83689458e+00,  1.83809257e+00],\n",
       "       [ 1.68963720e+00,  1.07858175e+00, -1.35650407e+00,\n",
       "         1.43646239e+00, -1.61500633e+00],\n",
       "       [ 1.23097914e+00,  7.64385811e-01, -1.02740475e+00,\n",
       "         5.66893455e-01, -7.71607545e-01],\n",
       "       [ 4.61165702e-01,  6.71548728e-01, -1.64637561e+00,\n",
       "         1.22209797e+00, -1.17585845e+00],\n",
       "       [ 1.69693540e+00,  4.14463268e-02,  4.63665420e-02,\n",
       "        -1.38007112e+00,  1.01249030e+00]])"
      ]
     },
     "execution_count": 141,
     "metadata": {},
     "output_type": "execute_result"
    }
   ],
   "source": [
    "class_0 = labels == 0\n",
    "class_1 = labels == 1\n",
    "class_2 = labels == 2\n",
    "data[class_2]"
   ]
  },
  {
   "cell_type": "code",
   "execution_count": 55,
   "id": "fa000ace",
   "metadata": {},
   "outputs": [
    {
     "data": {
      "text/plain": [
       "array([-0.7695586 , -0.14983136,  1.14838775, -0.3483656 ,  3.03182068])"
      ]
     },
     "execution_count": 55,
     "metadata": {},
     "output_type": "execute_result"
    }
   ],
   "source": [
    "data[class_0][0]"
   ]
  },
  {
   "cell_type": "code",
   "execution_count": 61,
   "id": "df8c54c5",
   "metadata": {},
   "outputs": [
    {
     "data": {
      "text/plain": [
       "array([-0.3483656 , -0.69666551, -0.70663454, -1.1191159 , -1.22261087,\n",
       "       -0.30793638,  0.2094355 ,  0.11838102,  0.50793899, -0.15657857,\n",
       "       -0.61677357,  0.55372143, -0.98972274, -1.65728186,  0.62702598,\n",
       "       -1.02569526, -0.51423337, -1.19831659, -1.04427361,  0.48275463,\n",
       "       -1.82270942, -0.44887218, -1.55533977, -0.32073266, -0.90589521,\n",
       "        0.00445053,  0.89376811, -0.29128876,  0.16956364, -2.27360224,\n",
       "       -1.70559288, -0.82837124, -0.26922516, -0.24936069])"
      ]
     },
     "execution_count": 61,
     "metadata": {},
     "output_type": "execute_result"
    }
   ],
   "source": [
    "data[class_0][:,3]"
   ]
  },
  {
   "cell_type": "code",
   "execution_count": 105,
   "id": "b77d6fcb",
   "metadata": {},
   "outputs": [
    {
     "name": "stderr",
     "output_type": "stream",
     "text": [
      "C:\\ProgramData\\Anaconda3\\lib\\site-packages\\sklearn\\manifold\\_t_sne.py:986: FutureWarning: The PCA initialization in TSNE will change to have the standard deviation of PC1 equal to 1e-4 in 1.2. This will ensure better convergence.\n",
      "  FutureWarning,\n"
     ]
    },
    {
     "data": {
      "image/png": "[encoded data removed]",
      "text/plain": [
       "<Figure size 432x288 with 1 Axes>"
      ]
     },
     "metadata": {
      "needs_background": "light"
     },
     "output_type": "display_data"
    }
   ],
   "source": [
    "from sklearn.manifold import TSNE\n",
    "import matplotlib.pyplot as plt\n",
    "def visualize(X, y):\n",
    "    X_embedded = TSNE(n_components=2, perplexity=30,learning_rate='auto', init='pca').fit_transform(X)\n",
    "    fig = plt.figure()\n",
    "    ax = fig.add_subplot(111)\n",
    "    colors = ['r', 'b', 'g']\n",
    "    # for every class, we'll add a scatter plot separately\n",
    "    for label in [0, 1, 2]:\n",
    "        # find the samples of the current class in the data\n",
    "        cluster = X_embedded[y == label]\n",
    "        # add a scatter plot with the corresponding color and label\n",
    "        ax.scatter(cluster[:,0], cluster[:,1], c=colors[label], label=label)\n",
    "\n",
    "    # finally, show the plot\n",
    "    plt.show()\n",
    "\n",
    "visualize(data, labels)"
   ]
  },
  {
   "cell_type": "code",
   "execution_count": 99,
   "id": "068b7eb3",
   "metadata": {},
   "outputs": [],
   "source": [
    "def generic_visualize(X, y):\n",
    "    fig = plt.figure()\n",
    "    ax = fig.add_subplot(111)\n",
    "    colors = ['r', 'b', 'g']\n",
    "    # for every class, we'll add a scatter plot separately\n",
    "    for label in [0, 1, 2]:\n",
    "        # find the samples of the current class in the data\n",
    "        cluster = X[y == label]\n",
    "        # add a scatter plot with the corresponding color and label\n",
    "        ax.scatter(cluster[:,0], cluster[:,1], c=colors[label], label=label)\n",
    "\n",
    "    # finally, show the plot\n",
    "    plt.show()"
   ]
  },
  {
   "cell_type": "code",
   "execution_count": 102,
   "id": "1cb951ff",
   "metadata": {},
   "outputs": [
    {
     "name": "stderr",
     "output_type": "stream",
     "text": [
      "C:\\ProgramData\\Anaconda3\\lib\\site-packages\\sklearn\\manifold\\_t_sne.py:986: FutureWarning: The PCA initialization in TSNE will change to have the standard deviation of PC1 equal to 1e-4 in 1.2. This will ensure better convergence.\n",
      "  FutureWarning,\n"
     ]
    },
    {
     "data": {
      "image/png": "[encoded data removed]",
      "text/plain": [
       "<Figure size 432x288 with 1 Axes>"
      ]
     },
     "metadata": {
      "needs_background": "light"
     },
     "output_type": "display_data"
    }
   ],
   "source": [
    "from metric_learn import LMNN\n",
    "\n",
    "model = LMNN()\n",
    "model.fit(data, labels)\n",
    "\n",
    "visualize(model.transform(data), labels)"
   ]
  },
  {
   "cell_type": "code",
   "execution_count": 104,
   "id": "75d60fe4",
   "metadata": {},
   "outputs": [
    {
     "name": "stderr",
     "output_type": "stream",
     "text": [
      "C:\\ProgramData\\Anaconda3\\lib\\site-packages\\sklearn\\manifold\\_t_sne.py:986: FutureWarning: The PCA initialization in TSNE will change to have the standard deviation of PC1 equal to 1e-4 in 1.2. This will ensure better convergence.\n",
      "  FutureWarning,\n"
     ]
    },
    {
     "data": {
      "image/png": "[encoded data removed]",
      "text/plain": [
       "<Figure size 432x288 with 1 Axes>"
      ]
     },
     "metadata": {
      "needs_background": "light"
     },
     "output_type": "display_data"
    }
   ],
   "source": [
    "from metric_learn import NCA\n",
    "model = NCA()\n",
    "model.fit(data, labels)\n",
    "\n",
    "visualize(model.transform(data), labels)"
   ]
  },
  {
   "cell_type": "code",
   "execution_count": 166,
   "id": "9fffc8c9",
   "metadata": {},
   "outputs": [
    {
     "name": "stdout",
     "output_type": "stream",
     "text": [
      "3\n"
     ]
    },
    {
     "data": {
      "text/plain": [
       "1"
      ]
     },
     "execution_count": 166,
     "metadata": {},
     "output_type": "execute_result"
    }
   ],
   "source": [
    "from itertools import product, combinations\n",
    "\n",
    "same = []\n",
    "\n",
    "for label in [0, 1, 2]:\n",
    "    t = data[labels == label]\n",
    "    same.append(list(combinations(t, 2)))\n",
    "    \n",
    "print(len(same))\n",
    "same = np.concatenate(same, axis= 0)\n",
    "same_labels = np.full((len(same), 1), 1).flatten()\n",
    "same_labels[0]"
   ]
  },
  {
   "cell_type": "code",
   "execution_count": 252,
   "id": "bd73834f",
   "metadata": {},
   "outputs": [
    {
     "name": "stdout",
     "output_type": "stream",
     "text": [
      "0 1\n",
      "[[array([-0.19470215, -1.55927091, -0.84155624,  1.60812533, -0.5872838 ]), array([ 0.90685122,  2.4439099 ,  1.25802311, -0.1012932 , -1.0908067 ])], [array([-0.71042513, -2.44318141, -1.07021893,  1.18972331,  0.1725624 ]), array([ 1.84097454, -1.34940126,  3.93908411,  1.78770344, -1.32225555])], [array([ 0.78791934, -2.20007767, -1.93522086,  1.31708049, -0.0495397 ]), array([ 0.09160862, -0.98054287, -0.88486308,  1.48960404, -0.74484698])], [array([ 1.81838266, -1.59298513, -1.02214946,  1.23341634, -0.36683247]), array([ 0.53257651,  0.81805543, -3.7070667 , -0.27516346,  0.15083985])], [array([ 1.47090107, -3.1507658 , -1.00134092,  1.84731509, -0.20077659]), array([-0.98664365, -2.77809124,  3.32344545,  1.15504094,  0.00393302])], [array([-0.90156518, -1.73704105, -1.92640136,  0.61893047,  0.42482692]), array([-2.63114412, -3.61364774,  0.02017023,  0.83361207,  0.97551508])], [array([ 0.80221489, -2.09642125, -1.31428243,  0.92542646,  0.17732883]), array([ 1.14961894, -0.71613617,  0.14834587,  1.53464447, -1.03563679])], [array([ 0.27133682,  0.02543902, -2.1921963 ,  1.09731679, -0.74905385]), array([-1.15107105, -1.04203024,  2.42909844,  0.90863644, -0.43824995])], [array([-0.11284222, -2.01478721, -1.69639829,  0.94913046,  0.20680058]), array([-0.81945318, -2.33984136,  1.36829672,  1.74407253, -0.51426628])], [array([ 0.94958193, -1.65010361,  0.46678932,  0.91146694, -0.14910094]), array([ 0.5231089 , -0.30762013, -0.73968982, -1.63288464,  1.49563145])], [array([-0.40610944, -1.02516949, -1.1594518 ,  1.16753312, -0.41186653]), array([ 0.50151149, -0.97634306,  1.08402251,  1.81557786, -1.19514078])], [array([-1.49460565,  0.30543884, -0.72696153,  0.90421299, -0.72450887]), array([ 0.74336334, -0.89710976,  1.11360575,  1.80948637, -1.23945225])], [array([ 0.6254161 , -2.35576283, -0.17903923,  2.14761004, -0.79656771]), array([ 0.92443158, -1.05153842,  1.62823097,  0.28677609,  0.02078316])], [array([-0.15487887, -1.51706445, -0.58438796,  1.58470457, -0.60865263]), array([ 1.14344672, -1.22569031,  0.24192445,  1.77013439, -1.02284238])], [array([-0.55275719, -1.77476229, -1.14125233,  1.16399799, -0.08890616]), array([-0.00807331, -0.37821546, -0.25735701,  1.57032278, -1.10727244])], [array([ 1.67391035, -1.96151848, -3.49970783, -1.02115894,  1.84121812]), array([ 0.48005816, -0.86577935,  3.12231691,  2.29356314, -1.79530585])], [array([-0.04640813, -1.02796381, -0.55639393,  1.72230517, -0.93414394]), array([-0.33026421, -0.85360654,  1.42859015,  0.92844446, -0.49979179])], [array([-0.18491439, -2.16069165, -0.49639343,  2.70078883, -1.25941197]), array([ 0.75837502, -1.60783363,  1.18374956,  1.95899749, -1.071516  ])], [array([ 1.9708068 , -3.24257319, -0.60199335,  2.11602429, -0.44318964]), array([ 1.96139479,  1.52272894, -0.36279154,  1.82487604, -2.21404919])], [array([-0.82262106, -0.91075289, -1.76516146,  0.69267016,  0.00178076]), array([-1.92423309, -1.59793493,  0.55766503,  1.27188617, -0.30914398])], [array([-0.53557174,  1.53054983,  0.05658219,  1.83643284, -2.11769881]), array([ 0.61336194,  0.71551986, -0.05849237, -0.08195627, -0.26214021])], [array([-2.07230004,  0.84302477, -0.02474439,  2.58681967, -2.350811  ]), array([-0.79196822,  1.16809746,  0.04925277,  0.38063428, -0.75846039])], [array([-1.95374336, -1.990647  , -1.51547186,  0.22196538,  0.88312376]), array([ 0.80774819, -0.22229032, -0.24067447,  0.53338813, -0.37094274])], [array([-1.33620706, -2.06466468, -0.45606585,  1.10095269,  0.07362744]), array([-1.39447328, -2.02012677, -2.39229898,  0.7849748 ,  0.47264768])], [array([-0.86125673,  0.17047532, -0.77157096,  1.18229256, -0.92855606]), array([ 1.21596854, -1.40066528,  2.93023516,  1.82434043, -1.21412625])], [array([ 2.98761821, -1.15461836, -1.31421935,  0.1726727 ,  0.27559454]), array([ 1.05826718,  0.68718816,  0.575495  ,  1.66737525, -1.75967644])], [array([-0.672244  ,  0.56218114,  0.85905323,  2.69610299, -2.47401002]), array([-3.24665401, -1.41955446,  4.12839078, -0.8546114 ,  1.14727804])], [array([ 0.76172825, -0.48937859, -0.9188649 ,  0.7962229 , -0.41760006]), array([ 1.09606616, -0.46217363, -0.52387071,  0.84060748, -0.51615045])], [array([-1.2756919 , -1.32843376,  0.23866951,  1.45371794, -0.58215023]), array([-0.49800445, -1.3472626 ,  1.69075395,  2.7397543 , -1.78883443])], [array([ 1.30048451, -0.85887536, -1.81195648, -0.07859465,  0.49429947]), array([-2.15128136, -1.39928   ,  2.29031691,  1.44280422, -0.65827002])]]\n",
      "0 2\n",
      "[[array([-0.19470215, -1.55927091, -0.84155624,  1.60812533, -0.5872838 ]), array([ 1.14423004, -0.92749865, -1.25444544, -1.20963703,  1.41368085])], [array([-0.71042513, -2.44318141, -1.07021893,  1.18972331,  0.1725624 ]), array([ 1.60966485, -0.41762597,  0.29181919, -0.47919523,  0.451561  ])], [array([ 0.78791934, -2.20007767, -1.93522086,  1.31708049, -0.0495397 ]), array([ 3.22024509,  0.51735181,  0.73690353, -1.20980794,  0.53167521])], [array([ 1.81838266, -1.59298513, -1.02214946,  1.23341634, -0.36683247]), array([ 1.48727739,  1.41849432, -1.74208787, -2.09062217,  1.17487777])], [array([ 1.47090107, -3.1507658 , -1.00134092,  1.84731509, -0.20077659]), array([ 1.39086524, -2.1508401 ,  0.83344247, -0.7307229 ,  1.35068386])], [array([-0.90156518, -1.73704105, -1.92640136,  0.61893047,  0.42482692]), array([ 2.14121936, -2.3085899 ,  3.49942768, -0.13275839,  0.66980212])], [array([ 0.80221489, -2.09642125, -1.31428243,  0.92542646,  0.17732883]), array([ 0.66779551, -0.7498098 , -1.15722786, -0.89486704,  1.10102786])], [array([ 0.27133682,  0.02543902, -2.1921963 ,  1.09731679, -0.74905385]), array([ 1.25659395,  1.60657649, -0.19461042,  0.74014186, -1.33367979])], [array([-0.11284222, -2.01478721, -1.69639829,  0.94913046,  0.20680058]), array([ 1.08856304, -0.8377375 , -2.02754945, -1.7938898 ,  1.92004837])], [array([ 0.94958193, -1.65010361,  0.46678932,  0.91146694, -0.14910094]), array([ 1.4345793 ,  0.52677807,  0.00424941,  0.82191351, -0.97572265])], [array([-0.40610944, -1.02516949, -1.1594518 ,  1.16753312, -0.41186653]), array([ 0.95265212,  1.67055664, -0.97376115,  0.85964427, -1.37837284])], [array([-1.49460565,  0.30543884, -0.72696153,  0.90421299, -0.72450887]), array([ 1.92932615,  1.05336642, -0.62515101,  1.398062  , -1.64543453])], [array([ 0.6254161 , -2.35576283, -0.17903923,  2.14761004, -0.79656771]), array([ 0.05562752, -1.07586621, -2.4094856 , -0.53386294,  1.07704054])], [array([-0.15487887, -1.51706445, -0.58438796,  1.58470457, -0.60865263]), array([ 2.42771606, -1.40358473,  1.80890568, -1.13451616,  1.23171096])], [array([-0.55275719, -1.77476229, -1.14125233,  1.16399799, -0.08890616]), array([ 0.20377425,  1.1811138 , -1.00568347,  1.50265928, -1.65528407])], [array([ 1.67391035, -1.96151848, -3.49970783, -1.02115894,  1.84121812]), array([ 1.18871629,  0.10336861, -1.94261355, -1.5808768 ,  1.33985911])], [array([-0.04640813, -1.02796381, -0.55639393,  1.72230517, -0.93414394]), array([ 1.04320371, -1.43957114, -2.16969117, -1.88182003,  2.25750032])], [array([-0.18491439, -2.16069165, -0.49639343,  2.70078883, -1.25941197]), array([ 1.37109665, -1.65823454, -2.76091868, -2.75849189,  3.09572882])], [array([ 1.9708068 , -3.24257319, -0.60199335,  2.11602429, -0.44318964]), array([ 0.22794867,  0.58984153, -1.77944252,  1.10380264, -1.02080249])], [array([-0.82262106, -0.91075289, -1.76516146,  0.69267016,  0.00178076]), array([ 1.27747156,  1.15708372, -1.36277448,  1.7596207 , -1.88846163])], [array([-0.53557174,  1.53054983,  0.05658219,  1.83643284, -2.11769881]), array([ 0.29996504,  1.10590309, -0.00165497,  0.29957479, -0.72441524])], [array([-2.07230004,  0.84302477, -0.02474439,  2.58681967, -2.350811  ]), array([ 2.25975529,  2.18074104, -2.082806  , -2.03268338,  0.79217805])], [array([-1.95374336, -1.990647  , -1.51547186,  0.22196538,  0.88312376]), array([ 1.76540455,  0.84835089, -1.28389104,  0.72795601, -0.94858674])], [array([-1.33620706, -2.06466468, -0.45606585,  1.10095269,  0.07362744]), array([ 2.08687473, -0.63679794,  0.94832119, -1.40970514,  1.22539637])], [array([-0.86125673,  0.17047532, -0.77157096,  1.18229256, -0.92855606]), array([ 0.13772334,  1.13804404, -1.06701431,  0.81850167, -1.06813571])], [array([ 2.98761821, -1.15461836, -1.31421935,  0.1726727 ,  0.27559454]), array([-1.06906977,  2.16257022, -0.57815819, -0.35788315, -0.50270008])], [array([-0.672244  ,  0.56218114,  0.85905323,  2.69610299, -2.47401002]), array([ 0.41042159, -1.91881048, -0.00439977,  0.44367614,  0.4150144 ])], [array([ 0.76172825, -0.48937859, -0.9188649 ,  0.7962229 , -0.41760006]), array([ 2.71077084,  1.12418533, -0.31669312, -0.32157103, -0.33575076])], [array([-1.2756919 , -1.32843376,  0.23866951,  1.45371794, -0.58215023]), array([ 2.39600721,  0.29568833,  1.45769719,  3.15803221, -2.96456744])], [array([ 1.30048451, -0.85887536, -1.81195648, -0.07859465,  0.49429947]), array([ 2.05804315,  0.58517304, -0.71919091, -0.01554737, -0.29163977])], [array([ 2.20768182, -0.40772338, -0.28412815,  1.38633646, -1.06875293]), array([ 1.85797883,  1.36147833, -2.35553444, -2.83689458,  1.83809257])], [array([ 0.24628627, -1.23638941, -1.48520796,  1.41996243, -0.54156257]), array([ 1.6896372 ,  1.07858175, -1.35650407,  1.43646239, -1.61500633])], [array([-0.62820796,  0.42511287, -0.83864974,  1.29482613, -1.13505539]), array([ 1.23097914,  0.76438581, -1.02740475,  0.56689345, -0.77160754])], [array([ 0.28453465, -2.77185635,  1.38737125,  4.49710079, -2.65369657]), array([ 0.4611657 ,  0.67154873, -1.64637561,  1.22209797, -1.17585845])], [array([-1.75385328, -0.28536545, -1.14397437,  0.50821861, -0.10500504]), array([ 1.6969354 ,  0.04144633,  0.04636654, -1.38007112,  1.0124903 ])]]\n",
      "1 2\n",
      "[[array([ 0.90685122,  2.4439099 ,  1.25802311, -0.1012932 , -1.0908067 ]), array([ 1.14423004, -0.92749865, -1.25444544, -1.20963703,  1.41368085])], [array([ 1.84097454, -1.34940126,  3.93908411,  1.78770344, -1.32225555]), array([ 1.60966485, -0.41762597,  0.29181919, -0.47919523,  0.451561  ])], [array([ 0.09160862, -0.98054287, -0.88486308,  1.48960404, -0.74484698]), array([ 3.22024509,  0.51735181,  0.73690353, -1.20980794,  0.53167521])], [array([ 0.53257651,  0.81805543, -3.7070667 , -0.27516346,  0.15083985]), array([ 1.48727739,  1.41849432, -1.74208787, -2.09062217,  1.17487777])], [array([-0.98664365, -2.77809124,  3.32344545,  1.15504094,  0.00393302]), array([ 1.39086524, -2.1508401 ,  0.83344247, -0.7307229 ,  1.35068386])], [array([-2.63114412, -3.61364774,  0.02017023,  0.83361207,  0.97551508]), array([ 2.14121936, -2.3085899 ,  3.49942768, -0.13275839,  0.66980212])], [array([ 1.14961894, -0.71613617,  0.14834587,  1.53464447, -1.03563679]), array([ 0.66779551, -0.7498098 , -1.15722786, -0.89486704,  1.10102786])], [array([-1.15107105, -1.04203024,  2.42909844,  0.90863644, -0.43824995]), array([ 1.25659395,  1.60657649, -0.19461042,  0.74014186, -1.33367979])], [array([-0.81945318, -2.33984136,  1.36829672,  1.74407253, -0.51426628]), array([ 1.08856304, -0.8377375 , -2.02754945, -1.7938898 ,  1.92004837])], [array([ 0.5231089 , -0.30762013, -0.73968982, -1.63288464,  1.49563145]), array([ 1.4345793 ,  0.52677807,  0.00424941,  0.82191351, -0.97572265])], [array([ 0.50151149, -0.97634306,  1.08402251,  1.81557786, -1.19514078]), array([ 0.95265212,  1.67055664, -0.97376115,  0.85964427, -1.37837284])], [array([ 0.74336334, -0.89710976,  1.11360575,  1.80948637, -1.23945225]), array([ 1.92932615,  1.05336642, -0.62515101,  1.398062  , -1.64543453])], [array([ 0.92443158, -1.05153842,  1.62823097,  0.28677609,  0.02078316]), array([ 0.05562752, -1.07586621, -2.4094856 , -0.53386294,  1.07704054])], [array([ 1.14344672, -1.22569031,  0.24192445,  1.77013439, -1.02284238]), array([ 2.42771606, -1.40358473,  1.80890568, -1.13451616,  1.23171096])], [array([-0.00807331, -0.37821546, -0.25735701,  1.57032278, -1.10727244]), array([ 0.20377425,  1.1811138 , -1.00568347,  1.50265928, -1.65528407])], [array([ 0.48005816, -0.86577935,  3.12231691,  2.29356314, -1.79530585]), array([ 1.18871629,  0.10336861, -1.94261355, -1.5808768 ,  1.33985911])], [array([-0.33026421, -0.85360654,  1.42859015,  0.92844446, -0.49979179]), array([ 1.04320371, -1.43957114, -2.16969117, -1.88182003,  2.25750032])], [array([ 0.75837502, -1.60783363,  1.18374956,  1.95899749, -1.071516  ]), array([ 1.37109665, -1.65823454, -2.76091868, -2.75849189,  3.09572882])], [array([ 1.96139479,  1.52272894, -0.36279154,  1.82487604, -2.21404919]), array([ 0.22794867,  0.58984153, -1.77944252,  1.10380264, -1.02080249])], [array([-1.92423309, -1.59793493,  0.55766503,  1.27188617, -0.30914398]), array([ 1.27747156,  1.15708372, -1.36277448,  1.7596207 , -1.88846163])], [array([ 0.61336194,  0.71551986, -0.05849237, -0.08195627, -0.26214021]), array([ 0.29996504,  1.10590309, -0.00165497,  0.29957479, -0.72441524])], [array([-0.79196822,  1.16809746,  0.04925277,  0.38063428, -0.75846039]), array([ 2.25975529,  2.18074104, -2.082806  , -2.03268338,  0.79217805])], [array([ 0.80774819, -0.22229032, -0.24067447,  0.53338813, -0.37094274]), array([ 1.76540455,  0.84835089, -1.28389104,  0.72795601, -0.94858674])], [array([-1.39447328, -2.02012677, -2.39229898,  0.7849748 ,  0.47264768]), array([ 2.08687473, -0.63679794,  0.94832119, -1.40970514,  1.22539637])], [array([ 1.21596854, -1.40066528,  2.93023516,  1.82434043, -1.21412625]), array([ 0.13772334,  1.13804404, -1.06701431,  0.81850167, -1.06813571])], [array([ 1.05826718,  0.68718816,  0.575495  ,  1.66737525, -1.75967644]), array([-1.06906977,  2.16257022, -0.57815819, -0.35788315, -0.50270008])], [array([-3.24665401, -1.41955446,  4.12839078, -0.8546114 ,  1.14727804]), array([ 0.41042159, -1.91881048, -0.00439977,  0.44367614,  0.4150144 ])], [array([ 1.09606616, -0.46217363, -0.52387071,  0.84060748, -0.51615045]), array([ 2.71077084,  1.12418533, -0.31669312, -0.32157103, -0.33575076])], [array([-0.49800445, -1.3472626 ,  1.69075395,  2.7397543 , -1.78883443]), array([ 2.39600721,  0.29568833,  1.45769719,  3.15803221, -2.96456744])], [array([-2.15128136, -1.39928   ,  2.29031691,  1.44280422, -0.65827002]), array([ 2.05804315,  0.58517304, -0.71919091, -0.01554737, -0.29163977])]]\n"
     ]
    }
   ],
   "source": [
    "different = []\n",
    "for class1, class2 in list(combinations([0,1,2], 2)):\n",
    "    print(class1, class2)\n",
    "    v1 = data[labels == class1]\n",
    "    v2 = data[labels == class2]\n",
    "    different.append([[t, t2] for t, t2 in zip(v1, v2)])\n",
    "    print(different[-1])\n",
    "    #print(v1.shape, v2.shape)\n",
    "    #c = np.array(list(product((v1, v2),)))\n",
    "    #print('ITERATION', c.shape)\n",
    "    #different.append(c)\n",
    "    \n",
    "different = np.concatenate(different, axis = 0)\n",
    "different_labels = np.full((len(different), 1), -1).flatten()"
   ]
  },
  {
   "cell_type": "code",
   "execution_count": 265,
   "id": "88590d58",
   "metadata": {},
   "outputs": [
    {
     "data": {
      "text/plain": [
       "(1720, 2, 5)"
      ]
     },
     "execution_count": 265,
     "metadata": {},
     "output_type": "execute_result"
    }
   ],
   "source": [
    "training = np.concatenate((same, different), axis=0)\n",
    "training.shape"
   ]
  },
  {
   "cell_type": "code",
   "execution_count": 268,
   "id": "d7eea72e",
   "metadata": {},
   "outputs": [
    {
     "data": {
      "text/plain": [
       "(1720,)"
      ]
     },
     "execution_count": 268,
     "metadata": {},
     "output_type": "execute_result"
    }
   ],
   "source": [
    "all_labels = np.concatenate((same_labels, different_labels), axis=0)\n",
    "all_labels.shape"
   ]
  },
  {
   "cell_type": "code",
   "execution_count": 273,
   "id": "a95dcf03",
   "metadata": {},
   "outputs": [
    {
     "data": {
      "text/plain": [
       "MMC()"
      ]
     },
     "execution_count": 273,
     "metadata": {},
     "output_type": "execute_result"
    }
   ],
   "source": [
    "from metric_learn import MMC\n",
    "model = MMC()\n",
    "model.fit(training, all_labels)"
   ]
  },
  {
   "cell_type": "code",
   "execution_count": 274,
   "id": "44b93f11",
   "metadata": {},
   "outputs": [
    {
     "name": "stderr",
     "output_type": "stream",
     "text": [
      "C:\\ProgramData\\Anaconda3\\lib\\site-packages\\sklearn\\manifold\\_t_sne.py:986: FutureWarning: The PCA initialization in TSNE will change to have the standard deviation of PC1 equal to 1e-4 in 1.2. This will ensure better convergence.\n",
      "  FutureWarning,\n"
     ]
    },
    {
     "data": {
      "image/png": "[encoded data removed]",
      "text/plain": [
       "<Figure size 432x288 with 1 Axes>"
      ]
     },
     "metadata": {
      "needs_background": "light"
     },
     "output_type": "display_data"
    }
   ],
   "source": [
    "visualize(model.transform(data), labels)"
   ]
  },
  {
   "cell_type": "code",
   "execution_count": 276,
   "id": "9cfdfd53",
   "metadata": {},
   "outputs": [
    {
     "data": {
      "text/plain": [
       "array([2.85635564, 3.33099405, 3.17240111, 3.65173404, 2.78700816,\n",
       "       3.10115249, 4.40306553, 1.87233931, 5.22915251, 3.84270019,\n",
       "       3.08105107, 4.01372324, 2.45625334, 2.98995055, 4.12838607,\n",
       "       3.11802621, 4.90937981, 4.90848176, 2.1576082 , 2.86351779,\n",
       "       4.87499678, 3.09869279, 2.432352  , 3.29808126, 2.26613753,\n",
       "       3.72667448, 2.510008  , 2.33763672, 2.57835303, 3.76055063,\n",
       "       1.95751517, 2.20236758, 2.71371763, 3.74421629, 3.14267756,\n",
       "       3.01458842, 2.71853843, 3.89205928, 2.87763205, 2.79542833,\n",
       "       5.02452236, 2.90058515, 2.23041642, 2.85402575, 2.84072254,\n",
       "       2.23004238, 3.31860322, 2.63725775, 4.62647535, 2.16765909,\n",
       "       4.18843983, 3.33422045, 5.62558119, 4.28896269, 3.78505451,\n",
       "       2.61998091, 3.50696989, 4.72602101, 3.18021619, 2.50055171,\n",
       "       1.01148916, 1.64596352, 3.32013272, 4.48047997, 3.40909788,\n",
       "       1.36726825, 4.8078745 , 2.69467934, 3.24141824, 2.13315725,\n",
       "       3.0203686 , 2.58892118, 1.12156427, 3.83964149, 2.11820348,\n",
       "       4.27621113, 2.1275815 , 3.55725688, 3.08266878, 4.12515185,\n",
       "       5.2285273 , 1.72251595, 2.33384341, 5.22844597, 2.80293535,\n",
       "       5.94196122, 2.76393711, 2.57537829, 1.71973904, 3.32710023,\n",
       "       2.07043963, 2.90273648, 2.68752253, 4.37976267, 2.82479768,\n",
       "       2.65440854, 2.25787274, 6.79151999, 4.12603246, 2.30405222])"
      ]
     },
     "execution_count": 276,
     "metadata": {},
     "output_type": "execute_result"
    }
   ],
   "source": [
    "from sklearn.metrics.pairwise import paired_euclidean_distances\n",
    "paired_euclidean_distances(model.transform(data), data)"
   ]
  }
 ],
 "metadata": {
  "kernelspec": {
   "display_name": "Python 3 (ipykernel)",
   "language": "python",
   "name": "python3"
  },
  "language_info": {
   "codemirror_mode": {
    "name": "ipython",
    "version": 3
   },
   "file_extension": ".py",
   "mimetype": "text/x-python",
   "name": "python",
   "nbconvert_exporter": "python",
   "pygments_lexer": "ipython3",
   "version": "3.7.11"
  }
 },
 "nbformat": 4,
 "nbformat_minor": 5
}
